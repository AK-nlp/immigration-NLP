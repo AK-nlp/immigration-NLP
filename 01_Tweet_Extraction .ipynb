{
 "cells": [
  {
   "cell_type": "code",
   "execution_count": 1,
   "metadata": {},
   "outputs": [],
   "source": [
    "import pandas as pd\n",
    "import pickle"
   ]
  },
  {
   "cell_type": "code",
   "execution_count": null,
   "metadata": {},
   "outputs": [],
   "source": [
    "filename = '139500_140000.pkl'\n",
    "infile = open(filename,'rb')\n",
    "new_dict = pickle.load(infile)\n",
    "infile.close()"
   ]
  },
  {
   "cell_type": "code",
   "execution_count": null,
   "metadata": {},
   "outputs": [],
   "source": [
    "arr = []\n",
    "\n",
    "def get_tweet_text():\n",
    "    for key in new_dict:\n",
    "        tweet_acess=new_dict[key]\n",
    "        for tweet_data in tweet_acess:\n",
    "            text_acess=tweet_data['full_text']\n",
    "            arr.append(text_acess)"
   ]
  },
  {
   "cell_type": "code",
   "execution_count": 5,
   "metadata": {},
   "outputs": [],
   "source": [
    "get_tweet_text()"
   ]
  },
  {
   "cell_type": "code",
   "execution_count": 6,
   "metadata": {},
   "outputs": [],
   "source": [
    "tweets_df = pd.DataFrame(arr) "
   ]
  },
  {
   "cell_type": "code",
   "execution_count": 17,
   "metadata": {},
   "outputs": [
    {
     "data": {
      "text/html": [
       "<div>\n",
       "<style scoped>\n",
       "    .dataframe tbody tr th:only-of-type {\n",
       "        vertical-align: middle;\n",
       "    }\n",
       "\n",
       "    .dataframe tbody tr th {\n",
       "        vertical-align: top;\n",
       "    }\n",
       "\n",
       "    .dataframe thead th {\n",
       "        text-align: right;\n",
       "    }\n",
       "</style>\n",
       "<table border=\"1\" class=\"dataframe\">\n",
       "  <thead>\n",
       "    <tr style=\"text-align: right;\">\n",
       "      <th></th>\n",
       "      <th>Tweets</th>\n",
       "    </tr>\n",
       "  </thead>\n",
       "  <tbody>\n",
       "    <tr>\n",
       "      <th>0</th>\n",
       "      <td>RT @Ideal_Ceramics: CHRISTMAS SALE NOW ON. Get...</td>\n",
       "    </tr>\n",
       "    <tr>\n",
       "      <th>1</th>\n",
       "      <td>@ImmigrationDept kindly confirm status for 111...</td>\n",
       "    </tr>\n",
       "    <tr>\n",
       "      <th>2</th>\n",
       "      <td>@TeamCourageKE kahawa west chief being used by...</td>\n",
       "    </tr>\n",
       "    <tr>\n",
       "      <th>3</th>\n",
       "      <td>@aliiroba our condelences to the families...it...</td>\n",
       "    </tr>\n",
       "    <tr>\n",
       "      <th>4</th>\n",
       "      <td>@NdunguWainaina well said.. And why is that de...</td>\n",
       "    </tr>\n",
       "    <tr>\n",
       "      <th>5</th>\n",
       "      <td>hey be Kenya still waiting for my pin reset si...</td>\n",
       "    </tr>\n",
       "    <tr>\n",
       "      <th>6</th>\n",
       "      <td>@WALTERMONGARE sure there changes,but let the ...</td>\n",
       "    </tr>\n",
       "    <tr>\n",
       "      <th>7</th>\n",
       "      <td>@YvonneOkwara @KTNNews @AfUncensored  so sad, ...</td>\n",
       "    </tr>\n",
       "    <tr>\n",
       "      <th>8</th>\n",
       "      <td>@WALTERMONGARE @KideroEvans but what we seeing...</td>\n",
       "    </tr>\n",
       "    <tr>\n",
       "      <th>9</th>\n",
       "      <td>@HassanOmarH https://t.co/WwKbEFI8qY be safe hon</td>\n",
       "    </tr>\n",
       "    <tr>\n",
       "      <th>10</th>\n",
       "      <td>@KiarieJohn @OleItumbi  Good job...when you do...</td>\n",
       "    </tr>\n",
       "    <tr>\n",
       "      <th>11</th>\n",
       "      <td>@Karanjakibicho @MarthaKarua @InteriorKE  Keny...</td>\n",
       "    </tr>\n",
       "    <tr>\n",
       "      <th>12</th>\n",
       "      <td>@EAukot true we would appreciate if the agenda...</td>\n",
       "    </tr>\n",
       "    <tr>\n",
       "      <th>13</th>\n",
       "      <td>@NdunguWainaina @GenNkaisserry @HassanAliJoho ...</td>\n",
       "    </tr>\n",
       "    <tr>\n",
       "      <th>14</th>\n",
       "      <td>@WanjikuRevolt @RobertAlai but are we not the ...</td>\n",
       "    </tr>\n",
       "  </tbody>\n",
       "</table>\n",
       "</div>"
      ],
      "text/plain": [
       "                                               Tweets\n",
       "0   RT @Ideal_Ceramics: CHRISTMAS SALE NOW ON. Get...\n",
       "1   @ImmigrationDept kindly confirm status for 111...\n",
       "2   @TeamCourageKE kahawa west chief being used by...\n",
       "3   @aliiroba our condelences to the families...it...\n",
       "4   @NdunguWainaina well said.. And why is that de...\n",
       "5   hey be Kenya still waiting for my pin reset si...\n",
       "6   @WALTERMONGARE sure there changes,but let the ...\n",
       "7   @YvonneOkwara @KTNNews @AfUncensored  so sad, ...\n",
       "8   @WALTERMONGARE @KideroEvans but what we seeing...\n",
       "9    @HassanOmarH https://t.co/WwKbEFI8qY be safe hon\n",
       "10  @KiarieJohn @OleItumbi  Good job...when you do...\n",
       "11  @Karanjakibicho @MarthaKarua @InteriorKE  Keny...\n",
       "12  @EAukot true we would appreciate if the agenda...\n",
       "13  @NdunguWainaina @GenNkaisserry @HassanAliJoho ...\n",
       "14  @WanjikuRevolt @RobertAlai but are we not the ..."
      ]
     },
     "execution_count": 17,
     "metadata": {},
     "output_type": "execute_result"
    }
   ],
   "source": [
    "tweets_df2= tweets_df.head(15)"
   ]
  }
 ],
 "metadata": {
  "kernelspec": {
   "display_name": "Python 3",
   "language": "python",
   "name": "python3"
  },
  "language_info": {
   "codemirror_mode": {
    "name": "ipython",
    "version": 3
   },
   "file_extension": ".py",
   "mimetype": "text/x-python",
   "name": "python",
   "nbconvert_exporter": "python",
   "pygments_lexer": "ipython3",
   "version": "3.7.5"
  }
 },
 "nbformat": 4,
 "nbformat_minor": 2
}
