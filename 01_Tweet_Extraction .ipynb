{
 "cells": [
  {
   "cell_type": "code",
   "execution_count": 1,
   "metadata": {},
   "outputs": [],
   "source": [
    "import pandas as pd\n",
    "import pickle"
   ]
  },
  {
   "cell_type": "code",
   "execution_count": 2,
   "metadata": {},
   "outputs": [],
   "source": [
    "filename = '139500_140000.pkl'\n",
    "infile = open(filename,'rb')\n",
    "new_dict = pickle.load(infile)\n",
    "infile.close()"
   ]
  },
  {
   "cell_type": "code",
   "execution_count": 15,
   "metadata": {},
   "outputs": [],
   "source": [
    "arr = []\n",
    "\n",
    "def get_tweet_text():\n",
    "    for key in new_dict:\n",
    "        tweet_acess=new_dict[key]\n",
    "        for tweet_data in tweet_acess:\n",
    "            text_acess=tweet_data['full_text']\n",
    "            arr.append(text_acess)"
   ]
  },
  {
   "cell_type": "code",
   "execution_count": 16,
   "metadata": {},
   "outputs": [],
   "source": [
    "get_tweet_text()"
   ]
  },
  {
   "cell_type": "code",
   "execution_count": 17,
   "metadata": {},
   "outputs": [],
   "source": [
    "tweets_df3 = pd.DataFrame(arr) "
   ]
  },
  {
   "cell_type": "code",
   "execution_count": 18,
   "metadata": {},
   "outputs": [
    {
     "data": {
      "text/html": [
       "<div>\n",
       "<style scoped>\n",
       "    .dataframe tbody tr th:only-of-type {\n",
       "        vertical-align: middle;\n",
       "    }\n",
       "\n",
       "    .dataframe tbody tr th {\n",
       "        vertical-align: top;\n",
       "    }\n",
       "\n",
       "    .dataframe thead th {\n",
       "        text-align: right;\n",
       "    }\n",
       "</style>\n",
       "<table border=\"1\" class=\"dataframe\">\n",
       "  <thead>\n",
       "    <tr style=\"text-align: right;\">\n",
       "      <th></th>\n",
       "      <th>0</th>\n",
       "    </tr>\n",
       "  </thead>\n",
       "  <tbody>\n",
       "    <tr>\n",
       "      <th>0</th>\n",
       "      <td>RT @Ideal_Ceramics: CHRISTMAS SALE NOW ON. Get...</td>\n",
       "    </tr>\n",
       "    <tr>\n",
       "      <th>1</th>\n",
       "      <td>@ImmigrationDept kindly confirm status for 111...</td>\n",
       "    </tr>\n",
       "    <tr>\n",
       "      <th>2</th>\n",
       "      <td>@TeamCourageKE kahawa west chief being used by...</td>\n",
       "    </tr>\n",
       "    <tr>\n",
       "      <th>3</th>\n",
       "      <td>@aliiroba our condelences to the families...it...</td>\n",
       "    </tr>\n",
       "    <tr>\n",
       "      <th>4</th>\n",
       "      <td>@NdunguWainaina well said.. And why is that de...</td>\n",
       "    </tr>\n",
       "    <tr>\n",
       "      <th>...</th>\n",
       "      <td>...</td>\n",
       "    </tr>\n",
       "    <tr>\n",
       "      <th>598047</th>\n",
       "      <td>@HighPope_Brun That's fantastic.</td>\n",
       "    </tr>\n",
       "    <tr>\n",
       "      <th>598048</th>\n",
       "      <td>Rendsafe Mini crucibles, ready to be packed. T...</td>\n",
       "    </tr>\n",
       "    <tr>\n",
       "      <th>598049</th>\n",
       "      <td>Rendsafe Maxi was used to destroy White Phosph...</td>\n",
       "    </tr>\n",
       "    <tr>\n",
       "      <th>598050</th>\n",
       "      <td>3F using a Rendsafe maxi crucible on a live ta...</td>\n",
       "    </tr>\n",
       "    <tr>\n",
       "      <th>598051</th>\n",
       "      <td>Rendsafe Maxi Crucible ready for action. https...</td>\n",
       "    </tr>\n",
       "  </tbody>\n",
       "</table>\n",
       "<p>598052 rows × 1 columns</p>\n",
       "</div>"
      ],
      "text/plain": [
       "                                                        0\n",
       "0       RT @Ideal_Ceramics: CHRISTMAS SALE NOW ON. Get...\n",
       "1       @ImmigrationDept kindly confirm status for 111...\n",
       "2       @TeamCourageKE kahawa west chief being used by...\n",
       "3       @aliiroba our condelences to the families...it...\n",
       "4       @NdunguWainaina well said.. And why is that de...\n",
       "...                                                   ...\n",
       "598047                   @HighPope_Brun That's fantastic.\n",
       "598048  Rendsafe Mini crucibles, ready to be packed. T...\n",
       "598049  Rendsafe Maxi was used to destroy White Phosph...\n",
       "598050  3F using a Rendsafe maxi crucible on a live ta...\n",
       "598051  Rendsafe Maxi Crucible ready for action. https...\n",
       "\n",
       "[598052 rows x 1 columns]"
      ]
     },
     "execution_count": 18,
     "metadata": {},
     "output_type": "execute_result"
    }
   ],
   "source": [
    "tweets_df3"
   ]
  },
  {
   "cell_type": "code",
   "execution_count": 7,
   "metadata": {},
   "outputs": [],
   "source": [
    "tweets_df.to_csv('Tweet_full_text.csv')"
   ]
  }
 ],
 "metadata": {
  "kernelspec": {
   "display_name": "Python 3",
   "language": "python",
   "name": "python3"
  },
  "language_info": {
   "codemirror_mode": {
    "name": "ipython",
    "version": 3
   },
   "file_extension": ".py",
   "mimetype": "text/x-python",
   "name": "python",
   "nbconvert_exporter": "python",
   "pygments_lexer": "ipython3",
   "version": "3.7.5"
  }
 },
 "nbformat": 4,
 "nbformat_minor": 2
}
