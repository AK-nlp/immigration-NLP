{
 "cells": [
  {
   "cell_type": "code",
   "execution_count": 3,
   "metadata": {},
   "outputs": [],
   "source": [
    "import random"
   ]
  },
  {
   "cell_type": "code",
   "execution_count": 8,
   "metadata": {},
   "outputs": [],
   "source": [
    "characters = 'abcdefghijklmnopqrstuvwxyz'\n",
    "nodes = [c for c in characters]"
   ]
  },
  {
   "cell_type": "code",
   "execution_count": 9,
   "metadata": {},
   "outputs": [
    {
     "data": {
      "text/plain": [
       "['a',\n",
       " 'b',\n",
       " 'c',\n",
       " 'd',\n",
       " 'e',\n",
       " 'f',\n",
       " 'g',\n",
       " 'h',\n",
       " 'i',\n",
       " 'j',\n",
       " 'k',\n",
       " 'l',\n",
       " 'm',\n",
       " 'n',\n",
       " 'o',\n",
       " 'p',\n",
       " 'q',\n",
       " 'r',\n",
       " 's',\n",
       " 't',\n",
       " 'u',\n",
       " 'v',\n",
       " 'w',\n",
       " 'x',\n",
       " 'y',\n",
       " 'z']"
      ]
     },
     "execution_count": 9,
     "metadata": {},
     "output_type": "execute_result"
    }
   ],
   "source": [
    "nodes"
   ]
  },
  {
   "cell_type": "code",
   "execution_count": 25,
   "metadata": {},
   "outputs": [],
   "source": [
    "# create random dictionary:\n",
    "counts = {}\n",
    "for i in range(100):\n",
    "    x = nodes[random.randint(0,len(nodes)-1)]\n",
    "    y = nodes[random.randint(0,len(nodes)-1)]\n",
    "#    print(x,y)\n",
    "    if x in counts:\n",
    "        if y in counts[x]:\n",
    "            counts[x][y] += 1\n",
    "        else:\n",
    "            counts[x][y] = 1\n",
    "    else:\n",
    "        counts[x] = {y:1}\n",
    "    \n",
    "    if y in counts:\n",
    "        if x in counts[y]:\n",
    "            counts[y][x] += 1\n",
    "        else:\n",
    "            counts[y][x] = 1\n",
    "    else:\n",
    "        counts[y] = {x:1}"
   ]
  },
  {
   "cell_type": "code",
   "execution_count": 26,
   "metadata": {},
   "outputs": [
    {
     "data": {
      "text/plain": [
       "{'w': {'c': 1, 'r': 3, 'x': 1, 'y': 1},\n",
       " 'c': {'w': 1, 'm': 1, 't': 2, 'q': 1, 'k': 1, 'a': 1, 'f': 1, 'h': 1},\n",
       " 'x': {'y': 1, 'o': 1, 'q': 1, 's': 1, 'e': 1, 'z': 2, 'w': 1},\n",
       " 'y': {'x': 1, 'z': 1, 'r': 1, 'k': 1, 'w': 1, 'p': 1, 'l': 1, 'b': 1},\n",
       " 'j': {'k': 1, 'e': 1, 'j': 2, 'h': 1, 'u': 1},\n",
       " 'k': {'j': 1, 'u': 1, 'i': 1, 'f': 1, 'c': 1, 'q': 1, 'y': 1},\n",
       " 'o': {'p': 1,\n",
       "  'g': 1,\n",
       "  'x': 1,\n",
       "  'f': 1,\n",
       "  'e': 1,\n",
       "  's': 2,\n",
       "  'r': 1,\n",
       "  'd': 1,\n",
       "  'b': 1,\n",
       "  'u': 1,\n",
       "  't': 1},\n",
       " 'p': {'o': 1, 'f': 2, 'l': 1, 'h': 1, 'e': 1, 'b': 1, 'v': 1, 'y': 1, 'q': 1},\n",
       " 'e': {'u': 2, 'g': 1, 'j': 1, 'o': 1, 'p': 1, 'x': 1, 'a': 1},\n",
       " 'u': {'e': 2, 'k': 1, 'g': 1, 'b': 1, 'i': 2, 'l': 1, 'r': 1, 'o': 1, 'j': 1},\n",
       " 'g': {'o': 1, 'e': 1, 'u': 1, 'q': 1, 'z': 1, 'l': 1},\n",
       " 'r': {'w': 3, 'z': 2, 'd': 1, 'b': 1, 'y': 1, 'a': 2, 'q': 1, 'o': 1, 'u': 1},\n",
       " 'f': {'p': 2, 'o': 1, 'k': 1, 'd': 1, 'z': 1, 'c': 1, 'v': 1},\n",
       " 'q': {'x': 1, 'g': 1, 't': 1, 'c': 1, 'b': 1, 'r': 1, 'k': 1, 'v': 1, 'p': 1},\n",
       " 'z': {'r': 2, 'h': 1, 'y': 1, 'g': 1, 'n': 1, 'x': 2, 'f': 1},\n",
       " 'l': {'i': 1, 'p': 1, 't': 1, 'u': 1, 'h': 1, 'g': 1, 'y': 1},\n",
       " 'i': {'l': 1, 'k': 1, 'u': 2, 'd': 1, 'a': 1},\n",
       " 'm': {'c': 1, 'h': 1, 'a': 1},\n",
       " 'h': {'p': 1, 'z': 1, 'm': 1, 'a': 2, 'l': 1, 'j': 1, 'c': 1, 's': 1},\n",
       " 'd': {'r': 1, 'f': 1, 'a': 1, 'o': 1, 'i': 1},\n",
       " 't': {'c': 2, 'q': 1, 'l': 1, 's': 1, 'o': 1},\n",
       " 'b': {'a': 1, 'p': 1, 'u': 1, 'r': 1, 'q': 1, 'o': 1, 'y': 1},\n",
       " 'a': {'b': 1, 'v': 1, 'h': 2, 'm': 1, 'r': 2, 'e': 1, 'd': 1, 'c': 1, 'i': 1},\n",
       " 's': {'o': 2, 'x': 1, 'v': 1, 't': 1, 'h': 1},\n",
       " 'v': {'s': 1, 'a': 1, 'p': 1, 'f': 1, 'q': 1, 'v': 2},\n",
       " 'n': {'z': 1, 'n': 2}}"
      ]
     },
     "execution_count": 26,
     "metadata": {},
     "output_type": "execute_result"
    }
   ],
   "source": [
    "counts"
   ]
  },
  {
   "cell_type": "code",
   "execution_count": 27,
   "metadata": {},
   "outputs": [],
   "source": [
    "#convert string-based indexes to numeric indexes starting from 0\n",
    "\n",
    "str2numeric = {}\n",
    "for x in counts:\n",
    "    if x not in str2numeric:\n",
    "        str2numeric[x] = len(str2numeric)\n",
    "    for y in counts[x]:\n",
    "        if y not in str2numeric:\n",
    "            str2numeric[y] = len(str2numeric)"
   ]
  },
  {
   "cell_type": "code",
   "execution_count": 28,
   "metadata": {},
   "outputs": [
    {
     "data": {
      "text/plain": [
       "{'w': 0,\n",
       " 'c': 1,\n",
       " 'r': 2,\n",
       " 'x': 3,\n",
       " 'y': 4,\n",
       " 'm': 5,\n",
       " 't': 6,\n",
       " 'q': 7,\n",
       " 'k': 8,\n",
       " 'a': 9,\n",
       " 'f': 10,\n",
       " 'h': 11,\n",
       " 'o': 12,\n",
       " 's': 13,\n",
       " 'e': 14,\n",
       " 'z': 15,\n",
       " 'p': 16,\n",
       " 'l': 17,\n",
       " 'b': 18,\n",
       " 'j': 19,\n",
       " 'u': 20,\n",
       " 'i': 21,\n",
       " 'g': 22,\n",
       " 'd': 23,\n",
       " 'v': 24,\n",
       " 'n': 25}"
      ]
     },
     "execution_count": 28,
     "metadata": {},
     "output_type": "execute_result"
    }
   ],
   "source": [
    "str2numeric"
   ]
  },
  {
   "cell_type": "code",
   "execution_count": 29,
   "metadata": {},
   "outputs": [],
   "source": [
    "# convert counts from string-based to index-based\n",
    "int_counts = {}\n",
    "for x in counts:\n",
    "    x_index = str2numeric[x]\n",
    "    if x not in int_counts:        \n",
    "        int_counts[x_index] = {}\n",
    "    for y in counts[x]:\n",
    "        y_index = str2numeric[y]\n",
    "        int_counts[x_index][y_index] = counts[x][y]\n"
   ]
  },
  {
   "cell_type": "code",
   "execution_count": 30,
   "metadata": {},
   "outputs": [
    {
     "data": {
      "text/plain": [
       "{0: {1: 1, 2: 3, 3: 1, 4: 1},\n",
       " 1: {0: 1, 5: 1, 6: 2, 7: 1, 8: 1, 9: 1, 10: 1, 11: 1},\n",
       " 3: {4: 1, 12: 1, 7: 1, 13: 1, 14: 1, 15: 2, 0: 1},\n",
       " 4: {3: 1, 15: 1, 2: 1, 8: 1, 0: 1, 16: 1, 17: 1, 18: 1},\n",
       " 19: {8: 1, 14: 1, 19: 2, 11: 1, 20: 1},\n",
       " 8: {19: 1, 20: 1, 21: 1, 10: 1, 1: 1, 7: 1, 4: 1},\n",
       " 12: {16: 1,\n",
       "  22: 1,\n",
       "  3: 1,\n",
       "  10: 1,\n",
       "  14: 1,\n",
       "  13: 2,\n",
       "  2: 1,\n",
       "  23: 1,\n",
       "  18: 1,\n",
       "  20: 1,\n",
       "  6: 1},\n",
       " 16: {12: 1, 10: 2, 17: 1, 11: 1, 14: 1, 18: 1, 24: 1, 4: 1, 7: 1},\n",
       " 14: {20: 2, 22: 1, 19: 1, 12: 1, 16: 1, 3: 1, 9: 1},\n",
       " 20: {14: 2, 8: 1, 22: 1, 18: 1, 21: 2, 17: 1, 2: 1, 12: 1, 19: 1},\n",
       " 22: {12: 1, 14: 1, 20: 1, 7: 1, 15: 1, 17: 1},\n",
       " 2: {0: 3, 15: 2, 23: 1, 18: 1, 4: 1, 9: 2, 7: 1, 12: 1, 20: 1},\n",
       " 10: {16: 2, 12: 1, 8: 1, 23: 1, 15: 1, 1: 1, 24: 1},\n",
       " 7: {3: 1, 22: 1, 6: 1, 1: 1, 18: 1, 2: 1, 8: 1, 24: 1, 16: 1},\n",
       " 15: {2: 2, 11: 1, 4: 1, 22: 1, 25: 1, 3: 2, 10: 1},\n",
       " 17: {21: 1, 16: 1, 6: 1, 20: 1, 11: 1, 22: 1, 4: 1},\n",
       " 21: {17: 1, 8: 1, 20: 2, 23: 1, 9: 1},\n",
       " 5: {1: 1, 11: 1, 9: 1},\n",
       " 11: {16: 1, 15: 1, 5: 1, 9: 2, 17: 1, 19: 1, 1: 1, 13: 1},\n",
       " 23: {2: 1, 10: 1, 9: 1, 12: 1, 21: 1},\n",
       " 6: {1: 2, 7: 1, 17: 1, 13: 1, 12: 1},\n",
       " 18: {9: 1, 16: 1, 20: 1, 2: 1, 7: 1, 12: 1, 4: 1},\n",
       " 9: {18: 1, 24: 1, 11: 2, 5: 1, 2: 2, 14: 1, 23: 1, 1: 1, 21: 1},\n",
       " 13: {12: 2, 3: 1, 24: 1, 6: 1, 11: 1},\n",
       " 24: {13: 1, 9: 1, 16: 1, 10: 1, 7: 1, 24: 2},\n",
       " 25: {15: 1, 25: 2}}"
      ]
     },
     "execution_count": 30,
     "metadata": {},
     "output_type": "execute_result"
    }
   ],
   "source": [
    "int_counts"
   ]
  },
  {
   "cell_type": "code",
   "execution_count": null,
   "metadata": {},
   "outputs": [],
   "source": []
  }
 ],
 "metadata": {
  "kernelspec": {
   "display_name": "Python 3",
   "language": "python",
   "name": "python3"
  },
  "language_info": {
   "codemirror_mode": {
    "name": "ipython",
    "version": 3
   },
   "file_extension": ".py",
   "mimetype": "text/x-python",
   "name": "python",
   "nbconvert_exporter": "python",
   "pygments_lexer": "ipython3",
   "version": "3.7.6"
  }
 },
 "nbformat": 4,
 "nbformat_minor": 4
}
