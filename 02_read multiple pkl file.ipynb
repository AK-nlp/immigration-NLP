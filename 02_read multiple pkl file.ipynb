{
 "cells": [
  {
   "cell_type": "code",
   "execution_count": 5,
   "metadata": {},
   "outputs": [],
   "source": [
    "import pandas as pd\n",
    "import pickle\n",
    "import glob\n",
    "import os"
   ]
  },
  {
   "cell_type": "code",
   "execution_count": 6,
   "metadata": {},
   "outputs": [],
   "source": [
    "import glob\n",
    "file_name = glob.glob(\"/aparup_test/test/*.pkl\")"
   ]
  },
  {
   "cell_type": "code",
   "execution_count": 7,
   "metadata": {},
   "outputs": [
    {
     "data": {
      "text/plain": [
       "['/aparup_test/test\\\\41000_41500.pkl',\n",
       " '/aparup_test/test\\\\41500_42000.pkl',\n",
       " '/aparup_test/test\\\\42000_42500.pkl',\n",
       " '/aparup_test/test\\\\42500_43000.pkl',\n",
       " '/aparup_test/test\\\\43000_43500.pkl',\n",
       " '/aparup_test/test\\\\44000_44500.pkl']"
      ]
     },
     "execution_count": 7,
     "metadata": {},
     "output_type": "execute_result"
    }
   ],
   "source": [
    "file_name"
   ]
  },
  {
   "cell_type": "code",
   "execution_count": 8,
   "metadata": {},
   "outputs": [
    {
     "data": {
      "text/plain": [
       "list"
      ]
     },
     "execution_count": 8,
     "metadata": {},
     "output_type": "execute_result"
    }
   ],
   "source": [
    "type(file_name)"
   ]
  },
  {
   "cell_type": "code",
   "execution_count": 9,
   "metadata": {},
   "outputs": [],
   "source": [
    "full_text_arr = []\n",
    "\n",
    "for file in file_name:\n",
    "    infile = open(file, 'rb')\n",
    "    new_dict = pickle.load(infile)\n",
    "    for key in new_dict:\n",
    "        tweet_acess=new_dict[key]\n",
    "        for tweet_data in tweet_acess:\n",
    "            text_acess=tweet_data['full_text']\n",
    "            full_text_arr.append(text_acess)\n",
    "    infile.close"
   ]
  },
  {
   "cell_type": "code",
   "execution_count": 10,
   "metadata": {},
   "outputs": [],
   "source": [
    "full_text_df = pd.DataFrame(full_text_arr) "
   ]
  },
  {
   "cell_type": "code",
   "execution_count": 11,
   "metadata": {},
   "outputs": [],
   "source": [
    "full_text_df.columns = [\"full_text\"]"
   ]
  },
  {
   "cell_type": "code",
   "execution_count": 12,
   "metadata": {},
   "outputs": [
    {
     "data": {
      "text/html": [
       "<div>\n",
       "<style scoped>\n",
       "    .dataframe tbody tr th:only-of-type {\n",
       "        vertical-align: middle;\n",
       "    }\n",
       "\n",
       "    .dataframe tbody tr th {\n",
       "        vertical-align: top;\n",
       "    }\n",
       "\n",
       "    .dataframe thead th {\n",
       "        text-align: right;\n",
       "    }\n",
       "</style>\n",
       "<table border=\"1\" class=\"dataframe\">\n",
       "  <thead>\n",
       "    <tr style=\"text-align: right;\">\n",
       "      <th></th>\n",
       "      <th>full_text</th>\n",
       "    </tr>\n",
       "  </thead>\n",
       "  <tbody>\n",
       "    <tr>\n",
       "      <th>0</th>\n",
       "      <td>@POussy93 الطيب احسن</td>\n",
       "    </tr>\n",
       "    <tr>\n",
       "      <th>1</th>\n",
       "      <td>RT @mola42000: يا ريت ريتويت علي اوسع نطاق \\nا...</td>\n",
       "    </tr>\n",
       "    <tr>\n",
       "      <th>2</th>\n",
       "      <td>@jejelovesf7201 تنورى بدون متجيبى حاجة وانتى ج...</td>\n",
       "    </tr>\n",
       "    <tr>\n",
       "      <th>3</th>\n",
       "      <td>@batol_private جودى او حور</td>\n",
       "    </tr>\n",
       "    <tr>\n",
       "      <th>4</th>\n",
       "      <td>@zXW7ZkVEex5vBtu احنا بتوع الكراتين يا ابو طارق🤣🤣</td>\n",
       "    </tr>\n",
       "    <tr>\n",
       "      <th>...</th>\n",
       "      <td>...</td>\n",
       "    </tr>\n",
       "    <tr>\n",
       "      <th>280268</th>\n",
       "      <td>@NicoleSabaaa love  you so much :))))</td>\n",
       "    </tr>\n",
       "    <tr>\n",
       "      <th>280269</th>\n",
       "      <td>@hala_marz :)</td>\n",
       "    </tr>\n",
       "    <tr>\n",
       "      <th>280270</th>\n",
       "      <td>For Who Want to Join Maher World :\\nFacebook: ...</td>\n",
       "    </tr>\n",
       "    <tr>\n",
       "      <th>280271</th>\n",
       "      <td>بأسلوبي , بأبتسامتي , بهدوئي أجعل من يخطئ بحقي...</td>\n",
       "    </tr>\n",
       "    <tr>\n",
       "      <th>280272</th>\n",
       "      <td>haaaay guys any one can follow on Twitter @Mah...</td>\n",
       "    </tr>\n",
       "  </tbody>\n",
       "</table>\n",
       "<p>280273 rows × 1 columns</p>\n",
       "</div>"
      ],
      "text/plain": [
       "                                                full_text\n",
       "0                                    @POussy93 الطيب احسن\n",
       "1       RT @mola42000: يا ريت ريتويت علي اوسع نطاق \\nا...\n",
       "2       @jejelovesf7201 تنورى بدون متجيبى حاجة وانتى ج...\n",
       "3                              @batol_private جودى او حور\n",
       "4       @zXW7ZkVEex5vBtu احنا بتوع الكراتين يا ابو طارق🤣🤣\n",
       "...                                                   ...\n",
       "280268              @NicoleSabaaa love  you so much :))))\n",
       "280269                                      @hala_marz :)\n",
       "280270  For Who Want to Join Maher World :\\nFacebook: ...\n",
       "280271  بأسلوبي , بأبتسامتي , بهدوئي أجعل من يخطئ بحقي...\n",
       "280272  haaaay guys any one can follow on Twitter @Mah...\n",
       "\n",
       "[280273 rows x 1 columns]"
      ]
     },
     "execution_count": 12,
     "metadata": {},
     "output_type": "execute_result"
    }
   ],
   "source": [
    "full_text_df "
   ]
  },
  {
   "cell_type": "code",
   "execution_count": 13,
   "metadata": {},
   "outputs": [],
   "source": [
    "DF2 = full_text_df[full_text_df[\"full_text\"].str.contains(\"asylum|immigrant|immigration|migrant|refugee#ImmigrantStories|#refugeecrisis|#RefugeeEconomics|#RefugeeForum|#RefugeesNotTerrorists|#RefugeesWelcome|#SyrianRefugees|#UN4RefugeesMigrants|#WelcomeRefugees|#WithRefugees\", na=False)]"
   ]
  },
  {
   "cell_type": "code",
   "execution_count": 14,
   "metadata": {},
   "outputs": [
    {
     "data": {
      "text/html": [
       "<div>\n",
       "<style scoped>\n",
       "    .dataframe tbody tr th:only-of-type {\n",
       "        vertical-align: middle;\n",
       "    }\n",
       "\n",
       "    .dataframe tbody tr th {\n",
       "        vertical-align: top;\n",
       "    }\n",
       "\n",
       "    .dataframe thead th {\n",
       "        text-align: right;\n",
       "    }\n",
       "</style>\n",
       "<table border=\"1\" class=\"dataframe\">\n",
       "  <thead>\n",
       "    <tr style=\"text-align: right;\">\n",
       "      <th></th>\n",
       "      <th>full_text</th>\n",
       "    </tr>\n",
       "  </thead>\n",
       "  <tbody>\n",
       "    <tr>\n",
       "      <th>1449</th>\n",
       "      <td>RT @trtworld: Here are some of the politicians...</td>\n",
       "    </tr>\n",
       "    <tr>\n",
       "      <th>2409</th>\n",
       "      <td>“I am German when we win, but I am an immigran...</td>\n",
       "    </tr>\n",
       "    <tr>\n",
       "      <th>3077</th>\n",
       "      <td>RT @hrw: #BehindTheBling in Basel; why Twitter...</td>\n",
       "    </tr>\n",
       "    <tr>\n",
       "      <th>3746</th>\n",
       "      <td>RT @Conflicts: UK: Petition to accept more asy...</td>\n",
       "    </tr>\n",
       "    <tr>\n",
       "      <th>7121</th>\n",
       "      <td>RT @Vali_Ehsan: Very interesting thread on mis...</td>\n",
       "    </tr>\n",
       "    <tr>\n",
       "      <th>...</th>\n",
       "      <td>...</td>\n",
       "    </tr>\n",
       "    <tr>\n",
       "      <th>279438</th>\n",
       "      <td>We all know electoral politics is a sham, a me...</td>\n",
       "    </tr>\n",
       "    <tr>\n",
       "      <th>279498</th>\n",
       "      <td>@FoxNews @mamendoza480 You don't hate immigran...</td>\n",
       "    </tr>\n",
       "    <tr>\n",
       "      <th>279518</th>\n",
       "      <td>@UNHCREthiopia No borders! No nations! Stop th...</td>\n",
       "    </tr>\n",
       "    <tr>\n",
       "      <th>279547</th>\n",
       "      <td>They would have been great officers at #Dachau...</td>\n",
       "    </tr>\n",
       "    <tr>\n",
       "      <th>279592</th>\n",
       "      <td>@Idess_HaloStar @washingtonpost @Oprah @TheRoc...</td>\n",
       "    </tr>\n",
       "  </tbody>\n",
       "</table>\n",
       "<p>898 rows × 1 columns</p>\n",
       "</div>"
      ],
      "text/plain": [
       "                                                full_text\n",
       "1449    RT @trtworld: Here are some of the politicians...\n",
       "2409    “I am German when we win, but I am an immigran...\n",
       "3077    RT @hrw: #BehindTheBling in Basel; why Twitter...\n",
       "3746    RT @Conflicts: UK: Petition to accept more asy...\n",
       "7121    RT @Vali_Ehsan: Very interesting thread on mis...\n",
       "...                                                   ...\n",
       "279438  We all know electoral politics is a sham, a me...\n",
       "279498  @FoxNews @mamendoza480 You don't hate immigran...\n",
       "279518  @UNHCREthiopia No borders! No nations! Stop th...\n",
       "279547  They would have been great officers at #Dachau...\n",
       "279592  @Idess_HaloStar @washingtonpost @Oprah @TheRoc...\n",
       "\n",
       "[898 rows x 1 columns]"
      ]
     },
     "execution_count": 14,
     "metadata": {},
     "output_type": "execute_result"
    }
   ],
   "source": [
    "DF2"
   ]
  }
 ],
 "metadata": {
  "kernelspec": {
   "display_name": "Python 3",
   "language": "python",
   "name": "python3"
  },
  "language_info": {
   "codemirror_mode": {
    "name": "ipython",
    "version": 3
   },
   "file_extension": ".py",
   "mimetype": "text/x-python",
   "name": "python",
   "nbconvert_exporter": "python",
   "pygments_lexer": "ipython3",
   "version": "3.7.6"
  }
 },
 "nbformat": 4,
 "nbformat_minor": 4
}
