{
 "cells": [
  {
   "cell_type": "code",
   "execution_count": 1,
   "metadata": {},
   "outputs": [],
   "source": [
    "import pandas as pd\n",
    "import pickle\n",
    "import glob\n",
    "import os\n",
    "import re"
   ]
  },
  {
   "cell_type": "code",
   "execution_count": 2,
   "metadata": {},
   "outputs": [
    {
     "name": "stdout",
     "output_type": "stream",
     "text": [
      "['/aparup_test/test\\\\41000_41500.pkl', '/aparup_test/test\\\\41500_42000.pkl', '/aparup_test/test\\\\42000_42500.pkl', '/aparup_test/test\\\\42500_43000.pkl', '/aparup_test/test\\\\43000_43500.pkl', '/aparup_test/test\\\\44000_44500.pkl']\n"
     ]
    }
   ],
   "source": [
    "import glob\n",
    "print(glob.glob(\"/aparup_test/test/*.pkl\"))"
   ]
  },
  {
   "cell_type": "code",
   "execution_count": 3,
   "metadata": {},
   "outputs": [],
   "source": [
    "import glob\n",
    "file_name = glob.glob(\"/aparup_test/test/*.pkl\")"
   ]
  },
  {
   "cell_type": "code",
   "execution_count": 4,
   "metadata": {},
   "outputs": [
    {
     "data": {
      "text/plain": [
       "['/aparup_test/test\\\\41000_41500.pkl',\n",
       " '/aparup_test/test\\\\41500_42000.pkl',\n",
       " '/aparup_test/test\\\\42000_42500.pkl',\n",
       " '/aparup_test/test\\\\42500_43000.pkl',\n",
       " '/aparup_test/test\\\\43000_43500.pkl',\n",
       " '/aparup_test/test\\\\44000_44500.pkl']"
      ]
     },
     "execution_count": 4,
     "metadata": {},
     "output_type": "execute_result"
    }
   ],
   "source": [
    "file_name"
   ]
  },
  {
   "cell_type": "code",
   "execution_count": 5,
   "metadata": {},
   "outputs": [
    {
     "data": {
      "text/plain": [
       "list"
      ]
     },
     "execution_count": 5,
     "metadata": {},
     "output_type": "execute_result"
    }
   ],
   "source": [
    "type(file_name)"
   ]
  },
  {
   "cell_type": "code",
   "execution_count": 6,
   "metadata": {},
   "outputs": [],
   "source": [
    "id_arr = []\n",
    "created_at_arr = []\n",
    "lang_arr = []\n",
    "full_text_arr = []\n",
    "usr_arr = []\n",
    "\n",
    "for file in file_name:\n",
    "    infile = open(file, 'rb')\n",
    "    new_dict = pickle.load(infile)\n",
    "    for key in new_dict:\n",
    "        tweet_acess=new_dict[key]\n",
    "        for tweet_data in tweet_acess:\n",
    "            text_acess=tweet_data['full_text']\n",
    "            full_text_arr.append(text_acess)\n",
    "            text_acess=tweet_data['lang']\n",
    "            lang_arr.append(text_acess)\n",
    "            text_acess=tweet_data['created_at']\n",
    "            created_at_arr.append(text_acess)\n",
    "            text_acess=tweet_data['id']\n",
    "            id_arr.append(text_acess)\n",
    "    infile.close"
   ]
  },
  {
   "cell_type": "code",
   "execution_count": 7,
   "metadata": {},
   "outputs": [],
   "source": [
    "full_text_df = pd.DataFrame(full_text_arr) \n",
    "full_text_df.columns = [\"full_text\"]"
   ]
  },
  {
   "cell_type": "code",
   "execution_count": 8,
   "metadata": {},
   "outputs": [],
   "source": [
    "tweet_lang_df = pd.DataFrame(lang_arr) \n",
    "tweet_lang_df.columns = [\"lang\"]"
   ]
  },
  {
   "cell_type": "code",
   "execution_count": 9,
   "metadata": {},
   "outputs": [],
   "source": [
    "created_at_df = pd.DataFrame(created_at_arr) \n",
    "created_at_df.columns = [\"created_at\"]"
   ]
  },
  {
   "cell_type": "code",
   "execution_count": 10,
   "metadata": {},
   "outputs": [],
   "source": [
    "id_df = pd.DataFrame(id_arr) \n",
    "id_df.columns = [\"id\"]"
   ]
  },
  {
   "cell_type": "code",
   "execution_count": 11,
   "metadata": {},
   "outputs": [],
   "source": [
    "# df_col = pd.concat([created_at_df,full_text_df,tweet_lang_df,user_df], axis=1)\n",
    "df_col = pd.concat([id_df,created_at_df,full_text_df,tweet_lang_df], axis=1)"
   ]
  },
  {
   "cell_type": "code",
   "execution_count": 12,
   "metadata": {},
   "outputs": [
    {
     "data": {
      "text/html": [
       "<div>\n",
       "<style scoped>\n",
       "    .dataframe tbody tr th:only-of-type {\n",
       "        vertical-align: middle;\n",
       "    }\n",
       "\n",
       "    .dataframe tbody tr th {\n",
       "        vertical-align: top;\n",
       "    }\n",
       "\n",
       "    .dataframe thead th {\n",
       "        text-align: right;\n",
       "    }\n",
       "</style>\n",
       "<table border=\"1\" class=\"dataframe\">\n",
       "  <thead>\n",
       "    <tr style=\"text-align: right;\">\n",
       "      <th></th>\n",
       "      <th>id</th>\n",
       "      <th>created_at</th>\n",
       "      <th>full_text</th>\n",
       "      <th>lang</th>\n",
       "    </tr>\n",
       "  </thead>\n",
       "  <tbody>\n",
       "    <tr>\n",
       "      <th>0</th>\n",
       "      <td>1217860703748612096</td>\n",
       "      <td>Thu Jan 16 17:26:33 +0000 2020</td>\n",
       "      <td>@POussy93 الطيب احسن</td>\n",
       "      <td>ar</td>\n",
       "    </tr>\n",
       "    <tr>\n",
       "      <th>1</th>\n",
       "      <td>1213603968829534216</td>\n",
       "      <td>Sat Jan 04 23:31:48 +0000 2020</td>\n",
       "      <td>RT @mola42000: يا ريت ريتويت علي اوسع نطاق \\nا...</td>\n",
       "      <td>ar</td>\n",
       "    </tr>\n",
       "    <tr>\n",
       "      <th>2</th>\n",
       "      <td>1181906696119209987</td>\n",
       "      <td>Wed Oct 09 12:18:09 +0000 2019</td>\n",
       "      <td>@jejelovesf7201 تنورى بدون متجيبى حاجة وانتى ج...</td>\n",
       "      <td>ar</td>\n",
       "    </tr>\n",
       "    <tr>\n",
       "      <th>3</th>\n",
       "      <td>1179010312432951296</td>\n",
       "      <td>Tue Oct 01 12:28:58 +0000 2019</td>\n",
       "      <td>@batol_private جودى او حور</td>\n",
       "      <td>ar</td>\n",
       "    </tr>\n",
       "    <tr>\n",
       "      <th>4</th>\n",
       "      <td>1178620909185359872</td>\n",
       "      <td>Mon Sep 30 10:41:37 +0000 2019</td>\n",
       "      <td>@zXW7ZkVEex5vBtu احنا بتوع الكراتين يا ابو طارق🤣🤣</td>\n",
       "      <td>ar</td>\n",
       "    </tr>\n",
       "    <tr>\n",
       "      <th>...</th>\n",
       "      <td>...</td>\n",
       "      <td>...</td>\n",
       "      <td>...</td>\n",
       "      <td>...</td>\n",
       "    </tr>\n",
       "    <tr>\n",
       "      <th>280268</th>\n",
       "      <td>302026597521842176</td>\n",
       "      <td>Thu Feb 14 12:08:46 +0000 2013</td>\n",
       "      <td>@NicoleSabaaa love  you so much :))))</td>\n",
       "      <td>en</td>\n",
       "    </tr>\n",
       "    <tr>\n",
       "      <th>280269</th>\n",
       "      <td>300727657467899904</td>\n",
       "      <td>Sun Feb 10 22:07:15 +0000 2013</td>\n",
       "      <td>@hala_marz :)</td>\n",
       "      <td>und</td>\n",
       "    </tr>\n",
       "    <tr>\n",
       "      <th>280270</th>\n",
       "      <td>294817916774391808</td>\n",
       "      <td>Fri Jan 25 14:44:03 +0000 2013</td>\n",
       "      <td>For Who Want to Join Maher World :\\nFacebook: ...</td>\n",
       "      <td>en</td>\n",
       "    </tr>\n",
       "    <tr>\n",
       "      <th>280271</th>\n",
       "      <td>293359155543158786</td>\n",
       "      <td>Mon Jan 21 14:07:27 +0000 2013</td>\n",
       "      <td>بأسلوبي , بأبتسامتي , بهدوئي أجعل من يخطئ بحقي...</td>\n",
       "      <td>ar</td>\n",
       "    </tr>\n",
       "    <tr>\n",
       "      <th>280272</th>\n",
       "      <td>293348609678778368</td>\n",
       "      <td>Mon Jan 21 13:25:33 +0000 2013</td>\n",
       "      <td>haaaay guys any one can follow on Twitter @Mah...</td>\n",
       "      <td>en</td>\n",
       "    </tr>\n",
       "  </tbody>\n",
       "</table>\n",
       "<p>280273 rows × 4 columns</p>\n",
       "</div>"
      ],
      "text/plain": [
       "                         id                      created_at  \\\n",
       "0       1217860703748612096  Thu Jan 16 17:26:33 +0000 2020   \n",
       "1       1213603968829534216  Sat Jan 04 23:31:48 +0000 2020   \n",
       "2       1181906696119209987  Wed Oct 09 12:18:09 +0000 2019   \n",
       "3       1179010312432951296  Tue Oct 01 12:28:58 +0000 2019   \n",
       "4       1178620909185359872  Mon Sep 30 10:41:37 +0000 2019   \n",
       "...                     ...                             ...   \n",
       "280268   302026597521842176  Thu Feb 14 12:08:46 +0000 2013   \n",
       "280269   300727657467899904  Sun Feb 10 22:07:15 +0000 2013   \n",
       "280270   294817916774391808  Fri Jan 25 14:44:03 +0000 2013   \n",
       "280271   293359155543158786  Mon Jan 21 14:07:27 +0000 2013   \n",
       "280272   293348609678778368  Mon Jan 21 13:25:33 +0000 2013   \n",
       "\n",
       "                                                full_text lang  \n",
       "0                                    @POussy93 الطيب احسن   ar  \n",
       "1       RT @mola42000: يا ريت ريتويت علي اوسع نطاق \\nا...   ar  \n",
       "2       @jejelovesf7201 تنورى بدون متجيبى حاجة وانتى ج...   ar  \n",
       "3                              @batol_private جودى او حور   ar  \n",
       "4       @zXW7ZkVEex5vBtu احنا بتوع الكراتين يا ابو طارق🤣🤣   ar  \n",
       "...                                                   ...  ...  \n",
       "280268              @NicoleSabaaa love  you so much :))))   en  \n",
       "280269                                      @hala_marz :)  und  \n",
       "280270  For Who Want to Join Maher World :\\nFacebook: ...   en  \n",
       "280271  بأسلوبي , بأبتسامتي , بهدوئي أجعل من يخطئ بحقي...   ar  \n",
       "280272  haaaay guys any one can follow on Twitter @Mah...   en  \n",
       "\n",
       "[280273 rows x 4 columns]"
      ]
     },
     "execution_count": 12,
     "metadata": {},
     "output_type": "execute_result"
    }
   ],
   "source": [
    "df_col"
   ]
  },
  {
   "cell_type": "code",
   "execution_count": 13,
   "metadata": {},
   "outputs": [],
   "source": [
    "DF2 = df_col[df_col[\"full_text\"].str.contains(\"asylum|immigrant|immigration|migrant|refugee|refugee#ImmigrantStories|#refugeecrisis|#RefugeeEconomics|#RefugeeForum|#RefugeesNotTerrorists|#RefugeesWelcome|#SyrianRefugees|#UN4RefugeesMigrants|#WelcomeRefugees|#WithRefugees\",flags=re.IGNORECASE, na=False)]"
   ]
  },
  {
   "cell_type": "code",
   "execution_count": 14,
   "metadata": {},
   "outputs": [],
   "source": [
    "# DF3 = df_col[df_col[\"full_text\"].str.contains(\"asylum|immigrant|immigration|migrant|refugee|Syria\",flags=re.IGNORECASE, na=False)]"
   ]
  },
  {
   "cell_type": "code",
   "execution_count": 15,
   "metadata": {},
   "outputs": [
    {
     "data": {
      "text/html": [
       "<div>\n",
       "<style scoped>\n",
       "    .dataframe tbody tr th:only-of-type {\n",
       "        vertical-align: middle;\n",
       "    }\n",
       "\n",
       "    .dataframe tbody tr th {\n",
       "        vertical-align: top;\n",
       "    }\n",
       "\n",
       "    .dataframe thead th {\n",
       "        text-align: right;\n",
       "    }\n",
       "</style>\n",
       "<table border=\"1\" class=\"dataframe\">\n",
       "  <thead>\n",
       "    <tr style=\"text-align: right;\">\n",
       "      <th></th>\n",
       "      <th>id</th>\n",
       "      <th>created_at</th>\n",
       "      <th>full_text</th>\n",
       "      <th>lang</th>\n",
       "    </tr>\n",
       "  </thead>\n",
       "  <tbody>\n",
       "    <tr>\n",
       "      <th>718</th>\n",
       "      <td>1141701192927473669</td>\n",
       "      <td>Thu Jun 20 13:35:50 +0000 2019</td>\n",
       "      <td>RT @TheMahiraKhan: They’ve been denied a home....</td>\n",
       "      <td>en</td>\n",
       "    </tr>\n",
       "    <tr>\n",
       "      <th>1449</th>\n",
       "      <td>1108382919117029377</td>\n",
       "      <td>Wed Mar 20 15:00:55 +0000 2019</td>\n",
       "      <td>RT @trtworld: Here are some of the politicians...</td>\n",
       "      <td>en</td>\n",
       "    </tr>\n",
       "    <tr>\n",
       "      <th>1659</th>\n",
       "      <td>1092852253344509952</td>\n",
       "      <td>Tue Feb 05 18:27:36 +0000 2019</td>\n",
       "      <td>RT @IFRCAsiaPacific: Today @Refugees goodwill ...</td>\n",
       "      <td>en</td>\n",
       "    </tr>\n",
       "    <tr>\n",
       "      <th>1896</th>\n",
       "      <td>1045672633193263104</td>\n",
       "      <td>Fri Sep 28 13:52:38 +0000 2018</td>\n",
       "      <td>RT @albd1971: HPM #SheikhHasina met with the @...</td>\n",
       "      <td>en</td>\n",
       "    </tr>\n",
       "    <tr>\n",
       "      <th>2095</th>\n",
       "      <td>1031967469575888896</td>\n",
       "      <td>Tue Aug 21 18:13:12 +0000 2018</td>\n",
       "      <td>@RefugeesChief Thanks a lot❤\\nEid Mubarak 😍😍</td>\n",
       "      <td>en</td>\n",
       "    </tr>\n",
       "    <tr>\n",
       "      <th>...</th>\n",
       "      <td>...</td>\n",
       "      <td>...</td>\n",
       "      <td>...</td>\n",
       "      <td>...</td>\n",
       "    </tr>\n",
       "    <tr>\n",
       "      <th>279526</th>\n",
       "      <td>956023838697033729</td>\n",
       "      <td>Wed Jan 24 04:40:19 +0000 2018</td>\n",
       "      <td>@Refugees No borders, no nations, stop the dep...</td>\n",
       "      <td>en</td>\n",
       "    </tr>\n",
       "    <tr>\n",
       "      <th>279547</th>\n",
       "      <td>954209585002409985</td>\n",
       "      <td>Fri Jan 19 04:31:08 +0000 2018</td>\n",
       "      <td>They would have been great officers at #Dachau...</td>\n",
       "      <td>en</td>\n",
       "    </tr>\n",
       "    <tr>\n",
       "      <th>279554</th>\n",
       "      <td>952929622764683264</td>\n",
       "      <td>Mon Jan 15 15:45:01 +0000 2018</td>\n",
       "      <td>@UNHCRinSYRIA @Refugees @UNinSyria @RefugeesMe...</td>\n",
       "      <td>en</td>\n",
       "    </tr>\n",
       "    <tr>\n",
       "      <th>279592</th>\n",
       "      <td>950605304655474694</td>\n",
       "      <td>Tue Jan 09 05:49:00 +0000 2018</td>\n",
       "      <td>@Idess_HaloStar @washingtonpost @Oprah @TheRoc...</td>\n",
       "      <td>en</td>\n",
       "    </tr>\n",
       "    <tr>\n",
       "      <th>279674</th>\n",
       "      <td>985142460929265666</td>\n",
       "      <td>Sat Apr 14 13:07:20 +0000 2018</td>\n",
       "      <td>RT @BrexitBin: Whether we bomb Syria or we don...</td>\n",
       "      <td>en</td>\n",
       "    </tr>\n",
       "  </tbody>\n",
       "</table>\n",
       "<p>2126 rows × 4 columns</p>\n",
       "</div>"
      ],
      "text/plain": [
       "                         id                      created_at  \\\n",
       "718     1141701192927473669  Thu Jun 20 13:35:50 +0000 2019   \n",
       "1449    1108382919117029377  Wed Mar 20 15:00:55 +0000 2019   \n",
       "1659    1092852253344509952  Tue Feb 05 18:27:36 +0000 2019   \n",
       "1896    1045672633193263104  Fri Sep 28 13:52:38 +0000 2018   \n",
       "2095    1031967469575888896  Tue Aug 21 18:13:12 +0000 2018   \n",
       "...                     ...                             ...   \n",
       "279526   956023838697033729  Wed Jan 24 04:40:19 +0000 2018   \n",
       "279547   954209585002409985  Fri Jan 19 04:31:08 +0000 2018   \n",
       "279554   952929622764683264  Mon Jan 15 15:45:01 +0000 2018   \n",
       "279592   950605304655474694  Tue Jan 09 05:49:00 +0000 2018   \n",
       "279674   985142460929265666  Sat Apr 14 13:07:20 +0000 2018   \n",
       "\n",
       "                                                full_text lang  \n",
       "718     RT @TheMahiraKhan: They’ve been denied a home....   en  \n",
       "1449    RT @trtworld: Here are some of the politicians...   en  \n",
       "1659    RT @IFRCAsiaPacific: Today @Refugees goodwill ...   en  \n",
       "1896    RT @albd1971: HPM #SheikhHasina met with the @...   en  \n",
       "2095         @RefugeesChief Thanks a lot❤\\nEid Mubarak 😍😍   en  \n",
       "...                                                   ...  ...  \n",
       "279526  @Refugees No borders, no nations, stop the dep...   en  \n",
       "279547  They would have been great officers at #Dachau...   en  \n",
       "279554  @UNHCRinSYRIA @Refugees @UNinSyria @RefugeesMe...   en  \n",
       "279592  @Idess_HaloStar @washingtonpost @Oprah @TheRoc...   en  \n",
       "279674  RT @BrexitBin: Whether we bomb Syria or we don...   en  \n",
       "\n",
       "[2126 rows x 4 columns]"
      ]
     },
     "execution_count": 15,
     "metadata": {},
     "output_type": "execute_result"
    }
   ],
   "source": [
    "DF2"
   ]
  },
  {
   "cell_type": "code",
   "execution_count": 16,
   "metadata": {},
   "outputs": [],
   "source": [
    "DF2.to_pickle('selectedTweets.pkl')"
   ]
  },
  {
   "cell_type": "code",
   "execution_count": 17,
   "metadata": {},
   "outputs": [],
   "source": [
    "DF4 = pd.read_pickle('selectedTweets.pkl')"
   ]
  },
  {
   "cell_type": "code",
   "execution_count": 18,
   "metadata": {},
   "outputs": [
    {
     "data": {
      "text/html": [
       "<div>\n",
       "<style scoped>\n",
       "    .dataframe tbody tr th:only-of-type {\n",
       "        vertical-align: middle;\n",
       "    }\n",
       "\n",
       "    .dataframe tbody tr th {\n",
       "        vertical-align: top;\n",
       "    }\n",
       "\n",
       "    .dataframe thead th {\n",
       "        text-align: right;\n",
       "    }\n",
       "</style>\n",
       "<table border=\"1\" class=\"dataframe\">\n",
       "  <thead>\n",
       "    <tr style=\"text-align: right;\">\n",
       "      <th></th>\n",
       "      <th>id</th>\n",
       "      <th>created_at</th>\n",
       "      <th>full_text</th>\n",
       "      <th>lang</th>\n",
       "    </tr>\n",
       "  </thead>\n",
       "  <tbody>\n",
       "    <tr>\n",
       "      <th>718</th>\n",
       "      <td>1141701192927473669</td>\n",
       "      <td>Thu Jun 20 13:35:50 +0000 2019</td>\n",
       "      <td>RT @TheMahiraKhan: They’ve been denied a home....</td>\n",
       "      <td>en</td>\n",
       "    </tr>\n",
       "    <tr>\n",
       "      <th>1449</th>\n",
       "      <td>1108382919117029377</td>\n",
       "      <td>Wed Mar 20 15:00:55 +0000 2019</td>\n",
       "      <td>RT @trtworld: Here are some of the politicians...</td>\n",
       "      <td>en</td>\n",
       "    </tr>\n",
       "    <tr>\n",
       "      <th>1659</th>\n",
       "      <td>1092852253344509952</td>\n",
       "      <td>Tue Feb 05 18:27:36 +0000 2019</td>\n",
       "      <td>RT @IFRCAsiaPacific: Today @Refugees goodwill ...</td>\n",
       "      <td>en</td>\n",
       "    </tr>\n",
       "    <tr>\n",
       "      <th>1896</th>\n",
       "      <td>1045672633193263104</td>\n",
       "      <td>Fri Sep 28 13:52:38 +0000 2018</td>\n",
       "      <td>RT @albd1971: HPM #SheikhHasina met with the @...</td>\n",
       "      <td>en</td>\n",
       "    </tr>\n",
       "    <tr>\n",
       "      <th>2095</th>\n",
       "      <td>1031967469575888896</td>\n",
       "      <td>Tue Aug 21 18:13:12 +0000 2018</td>\n",
       "      <td>@RefugeesChief Thanks a lot❤\\nEid Mubarak 😍😍</td>\n",
       "      <td>en</td>\n",
       "    </tr>\n",
       "    <tr>\n",
       "      <th>...</th>\n",
       "      <td>...</td>\n",
       "      <td>...</td>\n",
       "      <td>...</td>\n",
       "      <td>...</td>\n",
       "    </tr>\n",
       "    <tr>\n",
       "      <th>279526</th>\n",
       "      <td>956023838697033729</td>\n",
       "      <td>Wed Jan 24 04:40:19 +0000 2018</td>\n",
       "      <td>@Refugees No borders, no nations, stop the dep...</td>\n",
       "      <td>en</td>\n",
       "    </tr>\n",
       "    <tr>\n",
       "      <th>279547</th>\n",
       "      <td>954209585002409985</td>\n",
       "      <td>Fri Jan 19 04:31:08 +0000 2018</td>\n",
       "      <td>They would have been great officers at #Dachau...</td>\n",
       "      <td>en</td>\n",
       "    </tr>\n",
       "    <tr>\n",
       "      <th>279554</th>\n",
       "      <td>952929622764683264</td>\n",
       "      <td>Mon Jan 15 15:45:01 +0000 2018</td>\n",
       "      <td>@UNHCRinSYRIA @Refugees @UNinSyria @RefugeesMe...</td>\n",
       "      <td>en</td>\n",
       "    </tr>\n",
       "    <tr>\n",
       "      <th>279592</th>\n",
       "      <td>950605304655474694</td>\n",
       "      <td>Tue Jan 09 05:49:00 +0000 2018</td>\n",
       "      <td>@Idess_HaloStar @washingtonpost @Oprah @TheRoc...</td>\n",
       "      <td>en</td>\n",
       "    </tr>\n",
       "    <tr>\n",
       "      <th>279674</th>\n",
       "      <td>985142460929265666</td>\n",
       "      <td>Sat Apr 14 13:07:20 +0000 2018</td>\n",
       "      <td>RT @BrexitBin: Whether we bomb Syria or we don...</td>\n",
       "      <td>en</td>\n",
       "    </tr>\n",
       "  </tbody>\n",
       "</table>\n",
       "<p>2126 rows × 4 columns</p>\n",
       "</div>"
      ],
      "text/plain": [
       "                         id                      created_at  \\\n",
       "718     1141701192927473669  Thu Jun 20 13:35:50 +0000 2019   \n",
       "1449    1108382919117029377  Wed Mar 20 15:00:55 +0000 2019   \n",
       "1659    1092852253344509952  Tue Feb 05 18:27:36 +0000 2019   \n",
       "1896    1045672633193263104  Fri Sep 28 13:52:38 +0000 2018   \n",
       "2095    1031967469575888896  Tue Aug 21 18:13:12 +0000 2018   \n",
       "...                     ...                             ...   \n",
       "279526   956023838697033729  Wed Jan 24 04:40:19 +0000 2018   \n",
       "279547   954209585002409985  Fri Jan 19 04:31:08 +0000 2018   \n",
       "279554   952929622764683264  Mon Jan 15 15:45:01 +0000 2018   \n",
       "279592   950605304655474694  Tue Jan 09 05:49:00 +0000 2018   \n",
       "279674   985142460929265666  Sat Apr 14 13:07:20 +0000 2018   \n",
       "\n",
       "                                                full_text lang  \n",
       "718     RT @TheMahiraKhan: They’ve been denied a home....   en  \n",
       "1449    RT @trtworld: Here are some of the politicians...   en  \n",
       "1659    RT @IFRCAsiaPacific: Today @Refugees goodwill ...   en  \n",
       "1896    RT @albd1971: HPM #SheikhHasina met with the @...   en  \n",
       "2095         @RefugeesChief Thanks a lot❤\\nEid Mubarak 😍😍   en  \n",
       "...                                                   ...  ...  \n",
       "279526  @Refugees No borders, no nations, stop the dep...   en  \n",
       "279547  They would have been great officers at #Dachau...   en  \n",
       "279554  @UNHCRinSYRIA @Refugees @UNinSyria @RefugeesMe...   en  \n",
       "279592  @Idess_HaloStar @washingtonpost @Oprah @TheRoc...   en  \n",
       "279674  RT @BrexitBin: Whether we bomb Syria or we don...   en  \n",
       "\n",
       "[2126 rows x 4 columns]"
      ]
     },
     "execution_count": 18,
     "metadata": {},
     "output_type": "execute_result"
    }
   ],
   "source": [
    "DF4"
   ]
  },
  {
   "cell_type": "code",
   "execution_count": null,
   "metadata": {},
   "outputs": [],
   "source": []
  }
 ],
 "metadata": {
  "kernelspec": {
   "display_name": "Python 3",
   "language": "python",
   "name": "python3"
  },
  "language_info": {
   "codemirror_mode": {
    "name": "ipython",
    "version": 3
   },
   "file_extension": ".py",
   "mimetype": "text/x-python",
   "name": "python",
   "nbconvert_exporter": "python",
   "pygments_lexer": "ipython3",
   "version": "3.7.6"
  }
 },
 "nbformat": 4,
 "nbformat_minor": 4
}
